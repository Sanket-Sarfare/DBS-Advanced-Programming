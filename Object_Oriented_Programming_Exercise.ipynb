{
  "nbformat": 4,
  "nbformat_minor": 0,
  "metadata": {
    "colab": {
      "provenance": [],
      "collapsed_sections": [],
      "authorship_tag": "ABX9TyOshloa8wkhZRY7jMO5RgyB",
      "include_colab_link": true
    },
    "kernelspec": {
      "name": "python3",
      "display_name": "Python 3"
    },
    "language_info": {
      "name": "python"
    }
  },
  "cells": [
    {
      "cell_type": "markdown",
      "metadata": {
        "id": "view-in-github",
        "colab_type": "text"
      },
      "source": [
        "<a href=\"https://colab.research.google.com/github/Torres9-afk/DBS-Advanced-Programming/blob/main/Object_Oriented_Programming_Exercise.ipynb\" target=\"_parent\"><img src=\"https://colab.research.google.com/assets/colab-badge.svg\" alt=\"Open In Colab\"/></a>"
      ]
    },
    {
      "cell_type": "code",
      "execution_count": 1,
      "metadata": {
        "colab": {
          "base_uri": "https://localhost:8080/"
        },
        "id": "zvLUG1aQaYpf",
        "outputId": "e49a93fa-c348-42e1-aef3-b8e5304a0830"
      },
      "outputs": [
        {
          "output_type": "stream",
          "name": "stdout",
          "text": [
            "milk 2\n"
          ]
        }
      ],
      "source": [
        "#create a class basket with methods\n",
        "#addItem(self,item,qty)\n",
        "#getQty(self,item)\n",
        "\n",
        "\n",
        "class basket:\n",
        "  def __init__(self,item,qty):\n",
        "    self.item = item\n",
        "    self.qty = qty\n",
        "\n",
        "  def addItem(self,item,qty):\n",
        "    print(self.item,self.qty)\n",
        "\n",
        "  def getQty(self,item):\n",
        "    pass\n",
        "\n",
        "a = basket('milk','2')\n",
        "print(a.item,a.qty)"
      ]
    }
  ]
}