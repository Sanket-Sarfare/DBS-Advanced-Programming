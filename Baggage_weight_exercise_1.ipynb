{
  "nbformat": 4,
  "nbformat_minor": 0,
  "metadata": {
    "colab": {
      "provenance": [],
      "collapsed_sections": [],
      "name": "Baggage-weight-exercise_1.ipynb"
    },
    "kernelspec": {
      "name": "python3",
      "display_name": "Python 3"
    },
    "language_info": {
      "name": "python"
    }
  },
  "cells": [
    {
      "cell_type": "code",
      "execution_count": null,
      "metadata": {
        "colab": {
          "base_uri": "https://localhost:8080/"
        },
        "id": "s84qtudkPuJk",
        "outputId": "8581662f-0f1c-4113-a24c-e8d30429fb0b"
      },
      "outputs": [
        {
          "output_type": "stream",
          "name": "stdout",
          "text": [
            "Enter Your Baggage Weight: 21\n",
            "Your Entered Weight is:  21.0\n",
            "Your baggage weight has exceeded!, Please remove 6.0 more weight\n",
            "Enter how much weight to remove: 7\n",
            "Your new weight is:  14.0\n",
            "Your baggage is under weight, You can proceed\n"
          ]
        }
      ],
      "source": [
        "#Write a Python program that asks for the baggage weight  and lets the user know \n",
        "#while its weight exceeds the baggage limit of 15 kg. \n",
        "#asks to remove something and say how much removed\n",
        "#recomputes the new weight\n",
        "\n",
        "\n",
        "def cal_weight(check_weight):\n",
        "  if check_weight > 15 and check_weight > 0:\n",
        "      your_weight = check_weight-15\n",
        "      print(\"Your baggage weight has exceeded!, Please remove\",your_weight,\"more weight\")\n",
        "      recheck(check_weight);\n",
        "  else:\n",
        "     print(\"Your baggage is under weight, You can proceed\")\n",
        "\n",
        "def recheck(your_weight):\n",
        "  r_weight = float(input(\"Enter how much weight to remove: \"))\n",
        "  new_weight = your_weight - r_weight\n",
        "  print(\"Your new weight is: \",new_weight)\n",
        "  cal_weight(new_weight)\n",
        "\n",
        "def check():\n",
        "    weight = input(\"Enter Your Baggage Weight: \")\n",
        "    try:\n",
        "      check_weight = float(weight)\n",
        "      print(\"Your Entered Weight is: \",check_weight)   \n",
        "    except ValueError:\n",
        "      print(\"Try again, Enter a Valid Number\")\n",
        "      check();\n",
        "    cal_weight(check_weight);\n",
        "\n",
        "check();\n"
      ]
    },
    {
      "cell_type": "code",
      "source": [
        "#add the numbers to 93 using a loop\n",
        "\n",
        "c = 1\n",
        "for x in range(94):\n",
        "  c = c + x\n",
        "  print(c)\n"
      ],
      "metadata": {
        "colab": {
          "base_uri": "https://localhost:8080/"
        },
        "id": "d-Mz9lFsRuzI",
        "outputId": "9ba7dbbc-b2be-4818-98f0-c9966d43b76e"
      },
      "execution_count": null,
      "outputs": [
        {
          "output_type": "stream",
          "name": "stdout",
          "text": [
            "1\n",
            "2\n",
            "4\n",
            "7\n",
            "11\n",
            "16\n",
            "22\n",
            "29\n",
            "37\n",
            "46\n",
            "56\n",
            "67\n",
            "79\n",
            "92\n",
            "106\n",
            "121\n",
            "137\n",
            "154\n",
            "172\n",
            "191\n",
            "211\n",
            "232\n",
            "254\n",
            "277\n",
            "301\n",
            "326\n",
            "352\n",
            "379\n",
            "407\n",
            "436\n",
            "466\n",
            "497\n",
            "529\n",
            "562\n",
            "596\n",
            "631\n",
            "667\n",
            "704\n",
            "742\n",
            "781\n",
            "821\n",
            "862\n",
            "904\n",
            "947\n",
            "991\n",
            "1036\n",
            "1082\n",
            "1129\n",
            "1177\n",
            "1226\n",
            "1276\n",
            "1327\n",
            "1379\n",
            "1432\n",
            "1486\n",
            "1541\n",
            "1597\n",
            "1654\n",
            "1712\n",
            "1771\n",
            "1831\n",
            "1892\n",
            "1954\n",
            "2017\n",
            "2081\n",
            "2146\n",
            "2212\n",
            "2279\n",
            "2347\n",
            "2416\n",
            "2486\n",
            "2557\n",
            "2629\n",
            "2702\n",
            "2776\n",
            "2851\n",
            "2927\n",
            "3004\n",
            "3082\n",
            "3161\n",
            "3241\n",
            "3322\n",
            "3404\n",
            "3487\n",
            "3571\n",
            "3656\n",
            "3742\n",
            "3829\n",
            "3917\n",
            "4006\n",
            "4096\n",
            "4187\n",
            "4279\n",
            "4372\n"
          ]
        }
      ]
    },
    {
      "cell_type": "code",
      "source": [
        "#If we list all the natural numbers below 10 that are multiples of 3 or 5, \n",
        "#we get 3, 5, 6 and 9. The sum of these multiples is 23.\n",
        "#Find the sum of all the multiples of 3 or 5 below 1000.\n",
        "a = 0\n",
        "for x in range(1,10):\n",
        "  if(x % 3 == 0 or x % 5 == 0):\n",
        "    a = a + x\n",
        "    print(x)\n",
        "print(a)"
      ],
      "metadata": {
        "colab": {
          "base_uri": "https://localhost:8080/"
        },
        "id": "RV9aASsxR46g",
        "outputId": "5508da54-2926-427e-9c81-3c007570c18b"
      },
      "execution_count": null,
      "outputs": [
        {
          "output_type": "stream",
          "name": "stdout",
          "text": [
            "3\n",
            "5\n",
            "6\n",
            "9\n",
            "23\n"
          ]
        }
      ]
    },
    {
      "cell_type": "code",
      "source": [
        "#Write a function to find the sum of all the multiples of x or y below n.\n",
        "#where (x,y,n) are parameters to the function\n",
        "\n",
        "n = int(input(\"Enter range: \"))\n",
        "x = int(input(\"Enter value of x for first multiple: \"))\n",
        "y = int(input(\"Enter value of y for secound multiple: \"))\n",
        "\n",
        "def work(x,y,n):\n",
        "  a = 0\n",
        "  for i in range(1,n):\n",
        "    if(i % x == 0 or i % y == 0):\n",
        "      a = a + i\n",
        "      print(i)\n",
        "  print(a)\n",
        "\n",
        "work(x,y,n)"
      ],
      "metadata": {
        "colab": {
          "base_uri": "https://localhost:8080/"
        },
        "id": "4Qs4wynWSKaP",
        "outputId": "91aed87a-b8d6-461e-d1f4-76558d91a314"
      },
      "execution_count": null,
      "outputs": [
        {
          "output_type": "stream",
          "name": "stdout",
          "text": [
            "Enter range: 20\n",
            "Enter value of x for first multiple: 4\n",
            "Enter value of y for secound multiple: 5\n",
            "4\n",
            "5\n",
            "8\n",
            "10\n",
            "12\n",
            "15\n",
            "16\n",
            "70\n"
          ]
        }
      ]
    },
    {
      "cell_type": "code",
      "source": [
        "#In class exercise: Create a function that returns the sum of the first n numbers, where n is given as function parameter. \n",
        "\n",
        "def sum(n):\n",
        "  x=0\n",
        "  for i in range(n):\n",
        "    x = x + i\n",
        "  return x\n",
        "\n",
        "n = int(input('Enter value of n: '))\n",
        "sum(n)"
      ],
      "metadata": {
        "id": "FRoPHWnuSZaa",
        "outputId": "c164c35e-b86b-42ce-dd2e-608c9512f18e",
        "colab": {
          "base_uri": "https://localhost:8080/"
        }
      },
      "execution_count": null,
      "outputs": [
        {
          "name": "stdout",
          "output_type": "stream",
          "text": [
            "Enter value of n: 8\n"
          ]
        },
        {
          "output_type": "execute_result",
          "data": {
            "text/plain": [
              "28"
            ]
          },
          "metadata": {},
          "execution_count": 4
        }
      ]
    },
    {
      "cell_type": "code",
      "source": [
        "#If we list all the natural numbers below 10 that are multiples of 3 or 5, \n",
        "#we get 3, 5, 6 and 9. The sum of these multiples is 23.\n",
        "\n",
        "def work():\n",
        "  a = 0\n",
        "  for x in range(1,10):\n",
        "    if(x % 3 == 0 or x % 5 == 0):\n",
        "      a = a + x\n",
        "      print(x)\n",
        "  print(a)\n",
        "\n",
        "work()"
      ],
      "metadata": {
        "id": "R-jRDbg7SrJi",
        "outputId": "e2230c43-6780-4fb1-88ae-5d4b8f8d2ddc",
        "colab": {
          "base_uri": "https://localhost:8080/"
        }
      },
      "execution_count": null,
      "outputs": [
        {
          "output_type": "stream",
          "name": "stdout",
          "text": [
            "3\n",
            "5\n",
            "6\n",
            "9\n",
            "23\n"
          ]
        }
      ]
    },
    {
      "cell_type": "code",
      "source": [
        "#List 1\n",
        "#Create a function to find the sum of all the multiples of a or b in list l\n",
        "#a,b,l are function parameters\n",
        "\n",
        "l = [1,2,3,4,5,6,7,8,9]\n",
        "a = int(input(\"Enter value of a for first multiple: \"))\n",
        "b = int(input(\"Enter value of b for secound multiple: \"))\n",
        "\n",
        "def work(a,b,n):\n",
        "  c = 0\n",
        "  for i in range(1,n):\n",
        "    if(i % a == 0 or i % b == 0):\n",
        "      c += i\n",
        "      print(i)\n",
        "  return c\n",
        "\n",
        "work(a,b,n)"
      ],
      "metadata": {
        "id": "25oGBeYbS0sX",
        "outputId": "ecb66dcf-8791-4b0a-e9b6-566d818af1c8",
        "colab": {
          "base_uri": "https://localhost:8080/"
        }
      },
      "execution_count": null,
      "outputs": [
        {
          "output_type": "stream",
          "name": "stdout",
          "text": [
            "Enter value of a for first multiple: 4\n",
            "Enter value of b for secound multiple: 3\n",
            "3\n",
            "4\n",
            "6\n"
          ]
        },
        {
          "output_type": "execute_result",
          "data": {
            "text/plain": [
              "13"
            ]
          },
          "metadata": {},
          "execution_count": 6
        }
      ]
    },
    {
      "cell_type": "code",
      "source": [
        "#List 2\n",
        "#If we list all the natural numbers below 10 that are multiples of 3 or 5, \n",
        "#we get 3, 5, 6 and 9. The sum of these multiples is 23.\n",
        "#Create a function to find the sum of all the multiples of numbers in list a\n",
        "#contained in list l\n",
        "#a,l are function parameters and a is of length 2\n",
        "\n",
        "a = [3,5]\n",
        "l = [1,2,3,4,5,6,7,8,9]\n",
        "\n",
        "def cal():\n",
        "  c = 0\n",
        "  for i in l:       \n",
        "    for j in a:\n",
        "      if i % j == 0:\n",
        "        c += i\n",
        "        break\n",
        "  return c\n",
        "\n",
        "cal()"
      ],
      "metadata": {
        "id": "1Oj4m-3pTJjW",
        "outputId": "ece5f696-0865-4557-96d3-59a6cb0dd11a",
        "colab": {
          "base_uri": "https://localhost:8080/"
        }
      },
      "execution_count": null,
      "outputs": [
        {
          "output_type": "execute_result",
          "data": {
            "text/plain": [
              "23"
            ]
          },
          "metadata": {},
          "execution_count": 7
        }
      ]
    },
    {
      "cell_type": "code",
      "source": [
        "#List 3\n",
        "#Create a function to find the sum of all the multiples of numbers in list a\n",
        "#contained in list l\n",
        "#a,l are function parameters\n",
        "\n",
        "def list():\n",
        "  n = int(input('Enter the length of list 1: '))\n",
        "  m = int(input('Enter the length of list 2 which includes the multiples: '))\n",
        "  a = []\n",
        "  l = []\n",
        "\n",
        "  for i in range(n):\n",
        "    a.append(i)\n",
        "  for i in range(m):\n",
        "    x = int(input('Enter the multiples of list 2: '))\n",
        "    l.append(x)\n",
        "    \n",
        "  cal(a,l)\n",
        "\n",
        "def cal(a,l):\n",
        "  c = 0\n",
        "  for i in a:       \n",
        "    for j in l:\n",
        "      if i % j == 0:\n",
        "        c += i\n",
        "        break\n",
        "  print(c)\n",
        "\n",
        "list()"
      ],
      "metadata": {
        "id": "kkB5JKmOTULR",
        "outputId": "0031cb26-1fe9-4ef7-c10a-95db8a3087db",
        "colab": {
          "base_uri": "https://localhost:8080/"
        }
      },
      "execution_count": null,
      "outputs": [
        {
          "output_type": "stream",
          "name": "stdout",
          "text": [
            "Enter the length of list 1: 2000\n",
            "Enter the length of list 2 which includes the multiples: 5\n",
            "Enter the multiples of list 2: 4\n",
            "Enter the multiples of list 2: 2\n",
            "Enter the multiples of list 2: 3\n",
            "Enter the multiples of list 2: 7\n",
            "Enter the multiples of list 2: 8\n",
            "1426426\n"
          ]
        }
      ]
    },
    {
      "cell_type": "code",
      "source": [
        "#s([2,3,5,7],range(1000))\n",
        "#385788\n",
        "\n",
        "def s(a,l):\n",
        "  total=0\n",
        "\n",
        "  for i in l:\n",
        "    for j in a:\n",
        "      if i%j==0:\n",
        "        total+=i\n",
        "        break\n",
        "  return total\n",
        "\n",
        "s([2,3,5,7],range(1000))"
      ],
      "metadata": {
        "id": "C0QGwWQcUpYw",
        "outputId": "d778eb3e-f4be-4030-cb02-79fd500387b8",
        "colab": {
          "base_uri": "https://localhost:8080/"
        }
      },
      "execution_count": null,
      "outputs": [
        {
          "output_type": "execute_result",
          "data": {
            "text/plain": [
              "385788"
            ]
          },
          "metadata": {},
          "execution_count": 9
        }
      ]
    },
    {
      "cell_type": "code",
      "source": [
        "#s([2,3,5],range(1000))\n",
        "#366832\n",
        "\n",
        "def s(a,l):\n",
        "  total=0\n",
        "\n",
        "  for i in l:\n",
        "    for j in a:\n",
        "      if i%j==0:\n",
        "        total+=i\n",
        "        break\n",
        "  return total\n",
        "\n",
        "s([2,3,5],range(1000))"
      ],
      "metadata": {
        "id": "OUwMtWcxVAXX",
        "outputId": "bc37a9f7-ea46-4684-a42d-9e4ad9435235",
        "colab": {
          "base_uri": "https://localhost:8080/"
        }
      },
      "execution_count": null,
      "outputs": [
        {
          "output_type": "execute_result",
          "data": {
            "text/plain": [
              "366832"
            ]
          },
          "metadata": {},
          "execution_count": 10
        }
      ]
    },
    {
      "cell_type": "code",
      "source": [
        "#s([2,3,5],[1,2,3,4,5,6,7,8,9,15,9])\n",
        "#61\n",
        "\n",
        "def s(a,l):\n",
        "  total=0\n",
        "\n",
        "  for i in l:\n",
        "    for j in a:\n",
        "      if i%j==0:\n",
        "        total+=i\n",
        "        break\n",
        "  return total\n",
        "\n",
        "s([2,3,5],[1,2,3,4,5,6,7,8,9,15,9])"
      ],
      "metadata": {
        "id": "wOWpaolGVJYp",
        "outputId": "007ba964-b1bf-4a2d-adb0-3caf172400df",
        "colab": {
          "base_uri": "https://localhost:8080/"
        }
      },
      "execution_count": null,
      "outputs": [
        {
          "output_type": "execute_result",
          "data": {
            "text/plain": [
              "61"
            ]
          },
          "metadata": {},
          "execution_count": 11
        }
      ]
    }
  ]
}